{
 "cells": [
  {
   "cell_type": "code",
   "execution_count": 1,
   "metadata": {},
   "outputs": [
    {
     "name": "stderr",
     "output_type": "stream",
     "text": [
      "2024-02-26 16:55:49.751437: I tensorflow/core/util/port.cc:113] oneDNN custom operations are on. You may see slightly different numerical results due to floating-point round-off errors from different computation orders. To turn them off, set the environment variable `TF_ENABLE_ONEDNN_OPTS=0`.\n",
      "2024-02-26 16:55:50.267952: E external/local_xla/xla/stream_executor/cuda/cuda_dnn.cc:9261] Unable to register cuDNN factory: Attempting to register factory for plugin cuDNN when one has already been registered\n",
      "2024-02-26 16:55:50.268054: E external/local_xla/xla/stream_executor/cuda/cuda_fft.cc:607] Unable to register cuFFT factory: Attempting to register factory for plugin cuFFT when one has already been registered\n",
      "2024-02-26 16:55:50.354248: E external/local_xla/xla/stream_executor/cuda/cuda_blas.cc:1515] Unable to register cuBLAS factory: Attempting to register factory for plugin cuBLAS when one has already been registered\n",
      "2024-02-26 16:55:50.518076: I tensorflow/core/platform/cpu_feature_guard.cc:182] This TensorFlow binary is optimized to use available CPU instructions in performance-critical operations.\n",
      "To enable the following instructions: AVX2 AVX_VNNI FMA, in other operations, rebuild TensorFlow with the appropriate compiler flags.\n",
      "2024-02-26 16:55:51.395155: W tensorflow/compiler/tf2tensorrt/utils/py_utils.cc:38] TF-TRT Warning: Could not find TensorRT\n",
      "/usr/lib/python3/dist-packages/requests/__init__.py:87: RequestsDependencyWarning: urllib3 (2.1.0) or chardet (4.0.0) doesn't match a supported version!\n",
      "  warnings.warn(\"urllib3 ({}) or chardet ({}) doesn't match a supported \"\n"
     ]
    }
   ],
   "source": [
    "import matplotlib.pyplot as plt\n",
    "import numpy as np\n",
    "np.random.seed(42)\n",
    "\n",
    "from keras.datasets import mnist\n",
    "(x_train, y_train) , (x_test, y_test) = mnist.load_data()"
   ]
  },
  {
   "cell_type": "markdown",
   "metadata": {},
   "source": [
    "# data and parameter preparation\n"
   ]
  },
  {
   "cell_type": "code",
   "execution_count": 2,
   "metadata": {},
   "outputs": [],
   "source": [
    "#preparation of training data\n",
    "images , labels = (x_train[0:1000].reshape(1000,28*28))/225, y_train[0:1000]\n",
    "\n",
    "one_hot_labels = np.zeros((len(labels),10))\n",
    "\n",
    "for i,l in enumerate(labels):\n",
    "    one_hot_labels[i][l] = 1\n",
    "\n",
    "labels = one_hot_labels"
   ]
  },
  {
   "cell_type": "code",
   "execution_count": 3,
   "metadata": {},
   "outputs": [],
   "source": [
    "#preparation of test data\n",
    "test_images = x_test.reshape(len(x_test),28*28)/225\n",
    "\n",
    "test_labels = np.zeros((len(y_test),10))\n",
    "for i,l in enumerate(y_test):\n",
    "    test_labels[i][l] = 1\n"
   ]
  },
  {
   "cell_type": "code",
   "execution_count": 4,
   "metadata": {},
   "outputs": [],
   "source": [
    "#activation functions\n",
    "def tanh(x):\n",
    "    return np.tanh(x)\n",
    "\n",
    "def tanh2deriv(x):\n",
    "    return 1 - (x**2)\n",
    "\n",
    "def softmax(x):\n",
    "    temp = np.exp(x)\n",
    "    return temp/np.sum(temp, axis=1, keepdims=True)"
   ]
  },
  {
   "cell_type": "code",
   "execution_count": 5,
   "metadata": {},
   "outputs": [],
   "source": [
    "alpha, iterations= (2, 100)\n",
    "\n",
    "pixels_per_image, num_labels = (28*28 ,10)\n",
    "batch_size = 100\n",
    "\n",
    "input_rows = 28\n",
    "input_cols = 28\n",
    "\n",
    "kernel_rows = 3\n",
    "kernel_cols = 3\n",
    "num_kernel = 16\n",
    "\n",
    "hidden_size = ((input_rows-kernel_rows)*(input_cols-kernel_cols)*num_kernel)\n"
   ]
  },
  {
   "cell_type": "code",
   "execution_count": 6,
   "metadata": {},
   "outputs": [],
   "source": [
    "kernels = 0.02*np.random.random((kernel_rows*kernel_cols,num_kernel))-0.01\n",
    "\n",
    "#weights_0_1 = 0.02*np.random.random((pixels_per_image,hidden_size))-0.01\n",
    "weights_1_2 = 0.2*np.random.random((hidden_size,num_labels)) - 0.1"
   ]
  },
  {
   "cell_type": "code",
   "execution_count": 7,
   "metadata": {},
   "outputs": [],
   "source": [
    "def get_image_section(layer,row_from,row_to,col_from,col_to):\n",
    "    section = layer[:,row_from:row_to,col_from:col_to]\n",
    "    return section.reshape(-1,1,row_to-row_from, col_to-col_from)"
   ]
  },
  {
   "cell_type": "markdown",
   "metadata": {},
   "source": [
    "# model training and testing\n"
   ]
  },
  {
   "cell_type": "code",
   "execution_count": 6,
   "metadata": {},
   "outputs": [
    {
     "name": "stdout",
     "output_type": "stream",
     "text": [
      "\n",
      "I:0 Test-Acc:0.5738 Train-Acc:0.275\n",
      "\n",
      "I:10 Test-Acc:0.7556 Train-Acc:0.789\n",
      "\n",
      "I:20 Test-Acc:0.7943 Train-Acc:0.834\n",
      "\n",
      "I:30 Test-Acc:0.8131 Train-Acc:0.858\n",
      "\n",
      "I:40 Test-Acc:0.8245 Train-Acc:0.873\n",
      "\n",
      "I:50 Test-Acc:0.8334 Train-Acc:0.892\n",
      "\n",
      "I:60 Test-Acc:0.8407 Train-Acc:0.889\n",
      "\n",
      "I:70 Test-Acc:0.8462 Train-Acc:0.901\n",
      "\n",
      "I:80 Test-Acc:0.8506 Train-Acc:0.903\n",
      "\n",
      "I:90 Test-Acc:0.8539 Train-Acc:0.918\n"
     ]
    }
   ],
   "source": [
    "for j in range(iterations):\n",
    "    \n",
    "    correct_cnt = 0\n",
    "    for i in range(int(len(images)/batch_size)):\n",
    "        batch_start, batch_end = ((i * batch_size),((i+1)*batch_size))\n",
    "        \n",
    "        layer_0 = images[batch_start:batch_end] #Imports multiple images in batches to process # dimensions (batch_size , pixels_per_image)\n",
    "        layer_0 = layer_0.reshape(layer_0.shape[0],28,28)\n",
    "        layer_0.shape\n",
    "\n",
    "\n",
    "\n",
    "        sects = list()\n",
    "        for row_start in range(layer_0.shape[1]-kernel_rows):\n",
    "            for col_start in range(layer_0.shape[2]-kernel_cols):\n",
    "                sect = get_image_section(layer_0,row_start,row_start+kernel_rows,col_start,col_start+kernel_cols)\n",
    "                sects.append(sect)\n",
    "\n",
    "        expanded_input = np.concatenate(sects,axis=1)\n",
    "        es = expanded_input.shape\n",
    "        flattened_input = expanded_input.reshape(es[0]*es[1],-1)#\n",
    "\n",
    "        kernel_output = flattened_input.dot(kernels)\n",
    "\n",
    "\n",
    "\n",
    "\n",
    "        layer_1 = tanh(kernel_output.reshape(es[0],-1))\n",
    "        #layer_1 = tanh( np.dot( layer_0 , weights_0_1 ) )# ((batch_size , pixels_per_image)*(pixels_per_image,hidden_size) = (batch_size,hidden_size)\n",
    "\n",
    "        # Applying Dropout for regularization\n",
    "        dropput_mask = np.random.randint(2,size= layer_1.shape )\n",
    "        layer_1 *= dropput_mask*2\n",
    "\n",
    "\n",
    "        layer_2 = softmax( np.dot(layer_1,weights_1_2) )# (batch_size,hidden_size) * (hidden_size,num_labels) = (batch_size,num_labels)\n",
    "\n",
    "        # training performance measurement\n",
    "        for k in range(batch_size):\n",
    "            correct_cnt +=  int(np.argmax(layer_2[k:k+1]) == np.argmax(labels[batch_start+k : batch_start+k+1]))# compare the outcome with the highest probability\n",
    "        \n",
    "\n",
    "        #backpropagation calculations and weight updates \n",
    "        layer_2_delta = (labels[batch_start:batch_end] - layer_2)/ (batch_size*layer_2.shape[0]) # (batch_size,num_labels)\n",
    "\n",
    "        layer_1_delta = layer_2_delta.dot(weights_1_2.T) * tanh2deriv(layer_1) # (batch_size,num_labels)* (num_labels,hidden_size) = (batch_size,hidden_size)\n",
    "        layer_1_delta *= dropput_mask\n",
    "\n",
    "        weights_1_2 += alpha * layer_1.T.dot(layer_2_delta)# (hidden_size, batch_size)*(batch_size,num_labels) = (hidden_size, num_labels)\n",
    "\n",
    "        \n",
    "        weights_0_1 += alpha * layer_0.T.dot(layer_1_delta)# (pixels_per_image, batch_size)*(batch_size,hidden_size) = (pixels_per_image, hidden_size)\n",
    "    \n",
    "\n",
    "    # test performance measurement\n",
    "    test_correct_cnt = 0\n",
    "    for i in range(len(test_images)):\n",
    "        layer_0 = test_images[i:i+1]\n",
    "        layer_1 = tanh(np.dot(layer_0,weights_0_1))\n",
    "        layer_2 = np.dot(layer_1,weights_1_2)\n",
    "\n",
    "        test_correct_cnt +=  int(np.argmax(layer_2) == np.argmax(test_labels[i:i+1])) # compare the outcome with the highest probability\n",
    "\n",
    "    if (j % 10 == 0):\n",
    "        print(\"\\n\"+ \"I:\" + str(j) + \" Test-Acc:\"+str(test_correct_cnt/float(len(test_images)))+\" Train-Acc:\" + str(correct_cnt/float(len(images))))\n",
    "\n"
   ]
  },
  {
   "cell_type": "code",
   "execution_count": 7,
   "metadata": {},
   "outputs": [
    {
     "name": "stdout",
     "output_type": "stream",
     "text": [
      "Prediction [-0.7, 0.0, -0.5, 3.1, -1.6, 2.2, -1.7, -1.9, 1.7, 0.0]\n",
      "Label [0.0, 0.0, 0.0, 1.0, 0.0, 0.0, 0.0, 0.0, 0.0, 0.0]\n"
     ]
    },
    {
     "data": {
      "image/png": "[encoded data removed]",
      "text/plain": [
       "<Figure size 800x400 with 2 Axes>"
      ]
     },
     "metadata": {},
     "output_type": "display_data"
    }
   ],
   "source": [
    "a = np.random.randint(len(test_images))\n",
    "\n",
    "layer_0 = test_images[a]\n",
    "layer_1 = tanh(np.dot(layer_0,weights_0_1))\n",
    "layer_2 = np.dot(layer_1,weights_1_2)\n",
    "\n",
    "rgb = 'green' if np.argmax(layer_2) == np.argmax(test_labels[a]) else 'red'\n",
    "\n",
    "\n",
    "fig, axs = plt.subplots(1,2)\n",
    "fig.set_figheight(4)\n",
    "fig.set_figwidth(8)\n",
    "\n",
    "axs[0].imshow(layer_0.reshape(28,28))\n",
    "\n",
    "axs[1].bar(range(len(layer_2)), layer_2)\n",
    "axs[1].bar(range(len(layer_2)), test_labels[a],color = rgb)\n",
    "\n",
    "\n",
    "print(\"Prediction\",[round(a,1) for a in layer_2])\n",
    "print(\"Label\",[round(a,1) for a in test_labels[a]])"
   ]
  }
 ],
 "metadata": {
  "kernelspec": {
   "display_name": "Python 3",
   "language": "python",
   "name": "python3"
  },
  "language_info": {
   "codemirror_mode": {
    "name": "ipython",
    "version": 3
   },
   "file_extension": ".py",
   "mimetype": "text/x-python",
   "name": "python",
   "nbconvert_exporter": "python",
   "pygments_lexer": "ipython3",
   "version": "3.10.12"
  }
 },
 "nbformat": 4,
 "nbformat_minor": 2
}
